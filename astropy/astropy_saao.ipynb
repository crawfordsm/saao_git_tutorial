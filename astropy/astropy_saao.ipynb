{
 "metadata": {
  "celltoolbar": "Slideshow",
  "name": "",
  "signature": "sha256:a06f9bc36c79ce85fe83e3af528564d23c64d61ded744d942f63c9a9ea9432cc"
 },
 "nbformat": 3,
 "nbformat_minor": 0,
 "worksheets": [
  {
   "cells": [
    {
     "cell_type": "code",
     "collapsed": false,
     "input": [
      "%matplotlib inline\n",
      "import warnings\n",
      "warnings.filterwarnings('ignore')\n",
      "    "
     ],
     "language": "python",
     "metadata": {
      "slideshow": {
       "slide_type": "skip"
      }
     },
     "outputs": [],
     "prompt_number": 2
    },
    {
     "cell_type": "code",
     "collapsed": false,
     "input": [
      "from IPython.display import Image"
     ],
     "language": "python",
     "metadata": {
      "slideshow": {
       "slide_type": "skip"
      }
     },
     "outputs": [],
     "prompt_number": 3
    },
    {
     "cell_type": "code",
     "collapsed": false,
     "input": [
      "from IPython.display import HTML"
     ],
     "language": "python",
     "metadata": {
      "slideshow": {
       "slide_type": "skip"
      }
     },
     "outputs": [],
     "prompt_number": 4
    },
    {
     "cell_type": "markdown",
     "metadata": {
      "slideshow": {
       "slide_type": "slide"
      }
     },
     "source": [
      "<center>\n",
      "<img src='http://www.astropy.org/images/astropy_banner_96.png', width=1000)>\n",
      "\n",
      "<br>\n",
      "<br>\n",
      "<H2> Steve Crawford </H2><br>\n",
      "(one small member of the much larger astropy community)\n",
      "</center>"
     ]
    },
    {
     "cell_type": "markdown",
     "metadata": {
      "slideshow": {
       "slide_type": "slide"
      }
     },
     "source": [
      "<H2>Philosopy of Astropy </H2> "
     ]
    },
    {
     "cell_type": "markdown",
     "metadata": {
      "slideshow": {
       "slide_type": "fragment"
      }
     },
     "source": [
      "<H2>Contributors of Astropy </H2> "
     ]
    },
    {
     "cell_type": "markdown",
     "metadata": {
      "slideshow": {
       "slide_type": "fragment"
      }
     },
     "source": [
      "<H2> Astropy v0.4 and affiliate packages </H2> "
     ]
    },
    {
     "cell_type": "markdown",
     "metadata": {
      "slideshow": {
       "slide_type": "fragment"
      }
     },
     "source": [
      "<H2> How to Contribute </H2> "
     ]
    },
    {
     "cell_type": "markdown",
     "metadata": {
      "slideshow": {
       "slide_type": "slide"
      }
     },
     "source": [
      "<center><H1> History and Motivation </H1></center>"
     ]
    },
    {
     "cell_type": "markdown",
     "metadata": {
      "slideshow": {
       "slide_type": "slide"
      }
     },
     "source": [
      "<center><H1> Philosophy of Astropy </H1></center>"
     ]
    },
    {
     "cell_type": "markdown",
     "metadata": {
      "slideshow": {
       "slide_type": "subslide"
      }
     },
     "source": [
      "<center><H2>The Astropy Project is a community effort to develop a <b>core package for Astronomy in Python and foster interoperability</b> between Python astronomy packages.</H2></center>"
     ]
    },
    {
     "cell_type": "markdown",
     "metadata": {
      "slideshow": {
       "slide_type": "subslide"
      }
     },
     "source": [
      "<H2> \n",
      "<li> Minimize duplication\n",
      "<li> Create a well-documented and tested core astronomy library\n",
      "<li> Create frameworks for producing astronomy related code\n",
      "<li> Build and Support Python Astronomy Community \n",
      "</H2>"
     ]
    },
    {
     "cell_type": "markdown",
     "metadata": {
      "slideshow": {
       "slide_type": "slide"
      }
     },
     "source": [
      "<center><H1> Contributors to Astropy </H1> </center>"
     ]
    },
    {
     "cell_type": "markdown",
     "metadata": {
      "slideshow": {
       "slide_type": "subslide"
      }
     },
     "source": [
      "<H2>Astropy has organically grown from the astropy@scipy.org mailing list</H2>"
     ]
    },
    {
     "cell_type": "markdown",
     "metadata": {
      "slideshow": {
       "slide_type": "subslide"
      }
     },
     "source": [
      "<H2> Astropy has over 90 contributors from around the world <H2>"
     ]
    },
    {
     "cell_type": "markdown",
     "metadata": {
      "slideshow": {
       "slide_type": "subslide"
      }
     },
     "source": [
      "<H2>Project Coordinators</H2><br>\n",
      "<ul>\n",
      "<li> <H3> Perry Greenfield </H3>\n",
      "<li> <H3> Thomas Robitaille </H3>\n",
      "<li> <H3> Erik Tollerud </H3>\n",
      "<ul>"
     ]
    },
    {
     "cell_type": "markdown",
     "metadata": {
      "slideshow": {
       "slide_type": "subslide"
      }
     },
     "source": [
      "<center><a href='https://github.com/astropy'><H3>Astropy on Github</H3></a>\n",
      "<img src='astropy_github.png'><center>"
     ]
    },
    {
     "cell_type": "markdown",
     "metadata": {
      "slideshow": {
       "slide_type": "slide"
      }
     },
     "source": [
      "<center><H1> Astropy Core </H1> \n",
      "<H2> v0.4.2 </H2></center>"
     ]
    },
    {
     "cell_type": "markdown",
     "metadata": {
      "slideshow": {
       "slide_type": "subslide"
      }
     },
     "source": [
      "Only has Numpy as a required dependency (easy to install)<br>\n",
      "\n",
      "Well tested, documented, and stable code<br>\n",
      "\n",
      "Works on Linux, MacOS X, and Windows<br>\n",
      "\n",
      "Python 2 and 3 compatible<br>\n",
      "\n",
      "Latest stable release v0.4.2 on Sept 23<br>\n"
     ]
    },
    {
     "cell_type": "markdown",
     "metadata": {
      "slideshow": {
       "slide_type": "subslide"
      }
     },
     "source": [
      "<table >\n",
      "<tr>\n",
      "<td ><H3>Core data structures and transformations</H3><br>\n",
      "      <li> Constants <br>\n",
      "      <li> Units and Quantities  <br>\n",
      "      <li> N-dimensional datasets<br>\n",
      "      <li> Data Tables  <br>\n",
      "      <li> Time and Dates <br>\n",
      "      <li> Astronomical Coordinate Systems <br>\n",
      "      <li> World Coordinate System <br>\n",
      "      <li> Models and Fitting <br>\n",
      " \n",
      "  </td>\n",
      "  <td valign='top'><H3>Connecting up: Files and I/O</H3><br>\n",
      "     <li> Unified file read/write interface<br>\n",
      "     <li> FITS File handling <br>\n",
      "     <li>ASCII Tables <br>\n",
      "     <li>VOTable XML handling <br>\n",
      "     <li>Miscellaneous Input/Output <br>\n",
      "     <br>\n",
      "     <br>\n",
      "  </td>\n",
      "  <td> <H3>Astronomy computations and utilities</H3><br>\n",
      "    <li>Convolution and filtering <br>\n",
      "    <li>Cosmological Calculations <br>\n",
      "    <li>Astrostatistics Tools <br>\n",
      "    <li>Virtual Observatory Access <br>\n",
      "     <br>\n",
      "     <br>\n",
      "     <br>\n",
      "     <br>\n",
      "  </td>\n",
      "</tr>\n",
      "</table>"
     ]
    },
    {
     "cell_type": "markdown",
     "metadata": {
      "slideshow": {
       "slide_type": "subslide"
      }
     },
     "source": [
      "<center><H2> Analysis with Units </H2></center>"
     ]
    },
    {
     "cell_type": "code",
     "collapsed": false,
     "input": [
      "from astropy import constants as c\n",
      "c.G"
     ],
     "language": "python",
     "metadata": {
      "slideshow": {
       "slide_type": "fragment"
      }
     },
     "outputs": [
      {
       "latex": [
        "$6.67384\\times 10^{-11} \\; \\mathrm{\\frac{m^{3}}{kg\\,s^{2}}}$"
       ],
       "metadata": {},
       "output_type": "pyout",
       "prompt_number": 5,
       "text": [
        "<Constant name=u'Gravitational constant' value=6.67384e-11 error=8e-15 units='m3 / (kg s2)' reference=u'CODATA 2010'>"
       ]
      }
     ],
     "prompt_number": 5
    },
    {
     "cell_type": "code",
     "collapsed": false,
     "input": [
      "M = c.M_earth\n",
      "M"
     ],
     "language": "python",
     "metadata": {
      "slideshow": {
       "slide_type": "fragment"
      }
     },
     "outputs": [
      {
       "latex": [
        "$5.9742\\times 10^{+24} \\; \\mathrm{kg}$"
       ],
       "metadata": {},
       "output_type": "pyout",
       "prompt_number": 6,
       "text": [
        "<Constant name=u'Earth mass' value=5.9742e+24 error=5e+19 units='kg' reference=u\"Allen's Astrophysical Quantities 4th Ed.\">"
       ]
      }
     ],
     "prompt_number": 6
    },
    {
     "cell_type": "code",
     "collapsed": false,
     "input": [
      "from astropy import units as u\n",
      "r = c.R_earth\n",
      "v_esc = (2 * c.G * M / r)**0.5\n",
      "v_esc.to(u.km/u.s)"
     ],
     "language": "python",
     "metadata": {
      "slideshow": {
       "slide_type": "subslide"
      }
     },
     "outputs": [
      {
       "latex": [
        "$11.1814 \\; \\mathrm{\\frac{km}{s}}$"
       ],
       "metadata": {},
       "output_type": "pyout",
       "prompt_number": 7,
       "text": [
        "<Quantity 11.181392278943672 km / s>"
       ]
      }
     ],
     "prompt_number": 7
    },
    {
     "cell_type": "code",
     "collapsed": false,
     "input": [
      "v_esc = ((2 * c.G * M / (r+559*u.km))**0.5)\n",
      "v_esc.to(u.km/u.s)"
     ],
     "language": "python",
     "metadata": {
      "slideshow": {
       "slide_type": "fragment"
      }
     },
     "outputs": [
      {
       "latex": [
        "$10.7214 \\; \\mathrm{\\frac{km}{s}}$"
       ],
       "metadata": {},
       "output_type": "pyout",
       "prompt_number": 8,
       "text": [
        "<Quantity 10.72142884123798 km / s>"
       ]
      }
     ],
     "prompt_number": 8
    },
    {
     "cell_type": "code",
     "collapsed": false,
     "input": [
      "v_esc = ((2 * c.G * 3 * u.m / (r+559*u.km))**0.5)\n",
      "v_esc.to(u.km/u.s)"
     ],
     "language": "python",
     "metadata": {
      "slideshow": {
       "slide_type": "fragment"
      }
     },
     "outputs": [
      {
       "ename": "UnitsError",
       "evalue": "'m(3/2) / (kg(1/2) s)' and 'km / s' (speed) are not convertible",
       "output_type": "pyerr",
       "traceback": [
        "\u001b[0;31m---------------------------------------------------------------------------\u001b[0m\n\u001b[0;31mUnitsError\u001b[0m                                Traceback (most recent call last)",
        "\u001b[0;32m<ipython-input-9-871ca449b6fa>\u001b[0m in \u001b[0;36m<module>\u001b[0;34m()\u001b[0m\n\u001b[1;32m      1\u001b[0m \u001b[0mv_esc\u001b[0m \u001b[0;34m=\u001b[0m \u001b[0;34m(\u001b[0m\u001b[0;34m(\u001b[0m\u001b[0;36m2\u001b[0m \u001b[0;34m*\u001b[0m \u001b[0mc\u001b[0m\u001b[0;34m.\u001b[0m\u001b[0mG\u001b[0m \u001b[0;34m*\u001b[0m \u001b[0;36m3\u001b[0m \u001b[0;34m*\u001b[0m \u001b[0mu\u001b[0m\u001b[0;34m.\u001b[0m\u001b[0mm\u001b[0m \u001b[0;34m/\u001b[0m \u001b[0;34m(\u001b[0m\u001b[0mr\u001b[0m\u001b[0;34m+\u001b[0m\u001b[0;36m559\u001b[0m\u001b[0;34m*\u001b[0m\u001b[0mu\u001b[0m\u001b[0;34m.\u001b[0m\u001b[0mkm\u001b[0m\u001b[0;34m)\u001b[0m\u001b[0;34m)\u001b[0m\u001b[0;34m**\u001b[0m\u001b[0;36m0.5\u001b[0m\u001b[0;34m)\u001b[0m\u001b[0;34m\u001b[0m\u001b[0m\n\u001b[0;32m----> 2\u001b[0;31m \u001b[0mv_esc\u001b[0m\u001b[0;34m.\u001b[0m\u001b[0mto\u001b[0m\u001b[0;34m(\u001b[0m\u001b[0mu\u001b[0m\u001b[0;34m.\u001b[0m\u001b[0mkm\u001b[0m\u001b[0;34m/\u001b[0m\u001b[0mu\u001b[0m\u001b[0;34m.\u001b[0m\u001b[0ms\u001b[0m\u001b[0;34m)\u001b[0m\u001b[0;34m\u001b[0m\u001b[0m\n\u001b[0m",
        "\u001b[0;32m/Users/crawford/programs/astropy/astropy/units/quantity.pyc\u001b[0m in \u001b[0;36mto\u001b[0;34m(self, unit, equivalencies)\u001b[0m\n\u001b[1;32m    586\u001b[0m         \u001b[0munit\u001b[0m \u001b[0;34m=\u001b[0m \u001b[0mUnit\u001b[0m\u001b[0;34m(\u001b[0m\u001b[0munit\u001b[0m\u001b[0;34m)\u001b[0m\u001b[0;34m\u001b[0m\u001b[0m\n\u001b[1;32m    587\u001b[0m         new_val = np.asarray(\n\u001b[0;32m--> 588\u001b[0;31m             self.unit.to(unit, self.value, equivalencies=equivalencies))\n\u001b[0m\u001b[1;32m    589\u001b[0m         \u001b[0;32mreturn\u001b[0m \u001b[0mself\u001b[0m\u001b[0;34m.\u001b[0m\u001b[0m_new_view\u001b[0m\u001b[0;34m(\u001b[0m\u001b[0mnew_val\u001b[0m\u001b[0;34m,\u001b[0m \u001b[0munit\u001b[0m\u001b[0;34m)\u001b[0m\u001b[0;34m\u001b[0m\u001b[0m\n\u001b[1;32m    590\u001b[0m \u001b[0;34m\u001b[0m\u001b[0m\n",
        "\u001b[0;32m/Users/crawford/programs/astropy/astropy/units/core.pyc\u001b[0m in \u001b[0;36mto\u001b[0;34m(self, other, value, equivalencies)\u001b[0m\n\u001b[1;32m    924\u001b[0m             \u001b[0mIf\u001b[0m \u001b[0munits\u001b[0m \u001b[0mare\u001b[0m \u001b[0minconsistent\u001b[0m\u001b[0;34m\u001b[0m\u001b[0m\n\u001b[1;32m    925\u001b[0m         \"\"\"\n\u001b[0;32m--> 926\u001b[0;31m         \u001b[0;32mreturn\u001b[0m \u001b[0mself\u001b[0m\u001b[0;34m.\u001b[0m\u001b[0mget_converter\u001b[0m\u001b[0;34m(\u001b[0m\u001b[0mother\u001b[0m\u001b[0;34m,\u001b[0m \u001b[0mequivalencies\u001b[0m\u001b[0;34m=\u001b[0m\u001b[0mequivalencies\u001b[0m\u001b[0;34m)\u001b[0m\u001b[0;34m(\u001b[0m\u001b[0mvalue\u001b[0m\u001b[0;34m)\u001b[0m\u001b[0;34m\u001b[0m\u001b[0m\n\u001b[0m\u001b[1;32m    927\u001b[0m \u001b[0;34m\u001b[0m\u001b[0m\n\u001b[1;32m    928\u001b[0m     \u001b[0;32mdef\u001b[0m \u001b[0min_units\u001b[0m\u001b[0;34m(\u001b[0m\u001b[0mself\u001b[0m\u001b[0;34m,\u001b[0m \u001b[0mother\u001b[0m\u001b[0;34m,\u001b[0m \u001b[0mvalue\u001b[0m\u001b[0;34m=\u001b[0m\u001b[0;36m1.0\u001b[0m\u001b[0;34m,\u001b[0m \u001b[0mequivalencies\u001b[0m\u001b[0;34m=\u001b[0m\u001b[0;34m[\u001b[0m\u001b[0;34m]\u001b[0m\u001b[0;34m)\u001b[0m\u001b[0;34m:\u001b[0m\u001b[0;34m\u001b[0m\u001b[0m\n",
        "\u001b[0;32m/Users/crawford/programs/astropy/astropy/units/core.pyc\u001b[0m in \u001b[0;36mget_converter\u001b[0;34m(self, other, equivalencies)\u001b[0m\n\u001b[1;32m    860\u001b[0m         \u001b[0;32mexcept\u001b[0m \u001b[0mUnitsError\u001b[0m\u001b[0;34m:\u001b[0m\u001b[0;34m\u001b[0m\u001b[0m\n\u001b[1;32m    861\u001b[0m             return self._apply_equivalences(\n\u001b[0;32m--> 862\u001b[0;31m                 self, other, self._normalize_equivalencies(equivalencies))\n\u001b[0m\u001b[1;32m    863\u001b[0m         \u001b[0;32mreturn\u001b[0m \u001b[0;32mlambda\u001b[0m \u001b[0mval\u001b[0m\u001b[0;34m:\u001b[0m \u001b[0mscale\u001b[0m \u001b[0;34m*\u001b[0m \u001b[0m_condition_arg\u001b[0m\u001b[0;34m(\u001b[0m\u001b[0mval\u001b[0m\u001b[0;34m)\u001b[0m\u001b[0;34m\u001b[0m\u001b[0m\n\u001b[1;32m    864\u001b[0m \u001b[0;34m\u001b[0m\u001b[0m\n",
        "\u001b[0;32m/Users/crawford/programs/astropy/astropy/units/core.pyc\u001b[0m in \u001b[0;36m_apply_equivalences\u001b[0;34m(self, unit, other, equivalencies)\u001b[0m\n\u001b[1;32m    823\u001b[0m         raise UnitsError(\n\u001b[1;32m    824\u001b[0m             \"{0} and {1} are not convertible\".format(\n\u001b[0;32m--> 825\u001b[0;31m                 unit_str, other_str))\n\u001b[0m\u001b[1;32m    826\u001b[0m \u001b[0;34m\u001b[0m\u001b[0m\n\u001b[1;32m    827\u001b[0m     \u001b[0;32mdef\u001b[0m \u001b[0mget_converter\u001b[0m\u001b[0;34m(\u001b[0m\u001b[0mself\u001b[0m\u001b[0;34m,\u001b[0m \u001b[0mother\u001b[0m\u001b[0;34m,\u001b[0m \u001b[0mequivalencies\u001b[0m\u001b[0;34m=\u001b[0m\u001b[0;34m[\u001b[0m\u001b[0;34m]\u001b[0m\u001b[0;34m)\u001b[0m\u001b[0;34m:\u001b[0m\u001b[0;34m\u001b[0m\u001b[0m\n",
        "\u001b[0;31mUnitsError\u001b[0m: 'm(3/2) / (kg(1/2) s)' and 'km / s' (speed) are not convertible"
       ]
      }
     ],
     "prompt_number": 9
    },
    {
     "cell_type": "markdown",
     "metadata": {
      "slideshow": {
       "slide_type": "subslide"
      }
     },
     "source": [
      "<H2> Using Coordinates </H2>"
     ]
    },
    {
     "cell_type": "code",
     "collapsed": false,
     "input": [
      "from astropy import units as u\n",
      "from astropy.coordinates import SkyCoord\n",
      "c1 = SkyCoord('00h42m00s', '+41d12m00s', 'icrs')"
     ],
     "language": "python",
     "metadata": {
      "slideshow": {
       "slide_type": "fragment"
      }
     },
     "outputs": []
    },
    {
     "cell_type": "code",
     "collapsed": false,
     "input": [
      "print(\"{0} {1}\".format( c1.ra,c1.dec))"
     ],
     "language": "python",
     "metadata": {
      "slideshow": {
       "slide_type": "fragment"
      }
     },
     "outputs": []
    },
    {
     "cell_type": "code",
     "collapsed": false,
     "input": [
      "print c1.to_string('hmsdms')"
     ],
     "language": "python",
     "metadata": {
      "slideshow": {
       "slide_type": "fragment"
      }
     },
     "outputs": []
    },
    {
     "cell_type": "code",
     "collapsed": false,
     "input": [
      "c2 = SkyCoord(ra=11*u.degree, dec=10*u.degree, distance=11.5*u.pc, frame='icrs')\n",
      "c1.separation(c2)  "
     ],
     "language": "python",
     "metadata": {
      "slideshow": {
       "slide_type": "fragment"
      }
     },
     "outputs": []
    },
    {
     "cell_type": "markdown",
     "metadata": {
      "slideshow": {
       "slide_type": "fragment"
      }
     },
     "source": [
      "Also available are coordinate transformation between different systems (e.g. ICRS, FK5, galactic) and matching catalags of coordinates.  "
     ]
    },
    {
     "cell_type": "markdown",
     "metadata": {
      "slideshow": {
       "slide_type": "subslide"
      }
     },
     "source": [
      "<center><H2> Modeling </H2> </center>\n",
      "Astropy also has a modelling fitting package.  Let's see how it works.  Let's create a Gaussian shape and add some noise to it. "
     ]
    },
    {
     "cell_type": "code",
     "collapsed": false,
     "input": [
      "import numpy as np\n",
      "x = np.linspace(-5., 5., 200)\n",
      "y = 3 * np.exp(-0.5 * (x - 1.3)**2 / 0.8**2)\n",
      "y += np.random.normal(0., 0.2, x.shape)"
     ],
     "language": "python",
     "metadata": {
      "slideshow": {
       "slide_type": "fragment"
      }
     },
     "outputs": []
    },
    {
     "cell_type": "markdown",
     "metadata": {
      "slideshow": {
       "slide_type": "fragment"
      }
     },
     "source": [
      "Now let's fit the model using the astropy modeling class"
     ]
    },
    {
     "cell_type": "code",
     "collapsed": false,
     "input": [
      "from astropy.modeling import models, fitting\n",
      "g_init = models.Gaussian1D(amplitude=1., mean=0, stddev=1.)\n",
      "fit_g = fitting.LevMarLSQFitter()\n",
      "g = fit_g(g_init, x, y)\n",
      "print(g)"
     ],
     "language": "python",
     "metadata": {
      "slideshow": {
       "slide_type": "fragment"
      }
     },
     "outputs": []
    },
    {
     "cell_type": "code",
     "collapsed": false,
     "input": [
      "import pylab as plt\n",
      "plt.figure(figsize=(8,5))\n",
      "plt.plot(x, y, 'ko')\n",
      "plt.plot(x, g(x), 'r-', lw=2, label='Gaussian')\n",
      "plt.xlabel('Position')\n",
      "plt.ylabel('Flux')\n",
      "plt.legend(loc=2)\n",
      "plt.show()"
     ],
     "language": "python",
     "metadata": {
      "slideshow": {
       "slide_type": "subslide"
      }
     },
     "outputs": []
    },
    {
     "cell_type": "markdown",
     "metadata": {
      "slideshow": {
       "slide_type": "fragment"
      }
     },
     "source": [
      "A range of different models already exist for 1-D and 2-D fitting.  The API for the modeling class is still being refined but it should be stable in the next major release. "
     ]
    },
    {
     "cell_type": "markdown",
     "metadata": {
      "slideshow": {
       "slide_type": "subslide"
      }
     },
     "source": [
      "In addition to what has been shown so far, a number of core data structures and transformations have been included here to help build and coordinate other packages.  These include:\n",
      "<ul>\n",
      "<li> Quantity: An object with a value and unit\n",
      "<li> Table: functionality for storing and manipulating heterogeneous tables of data\n",
      "<li> NDData: A general astronomical data object including data, meta, uncertainty, wcs\n",
      "<li> Time: functionality for manipulating astronomical relevant times and dates\n",
      "<li> WCS: World Coordinate Systems\n",
      "</ul>"
     ]
    },
    {
     "cell_type": "markdown",
     "metadata": {
      "slideshow": {
       "slide_type": "subslide"
      }
     },
     "source": [
      "<center> <H2> Accessing Data </H2> <center>"
     ]
    },
    {
     "cell_type": "markdown",
     "metadata": {
      "slideshow": {
       "slide_type": "fragment"
      }
     },
     "source": [
      "<li> Tools for accessing the virtual observatory"
     ]
    },
    {
     "cell_type": "code",
     "collapsed": false,
     "input": [
      "from astropy.vo.client import conesearch"
     ],
     "language": "python",
     "metadata": {
      "slideshow": {
       "slide_type": "fragment"
      }
     },
     "outputs": []
    },
    {
     "cell_type": "markdown",
     "metadata": {
      "slideshow": {
       "slide_type": "fragment"
      }
     },
     "source": [
      "<li> Tools for reading/writing FITS files (formerly pyfits)"
     ]
    },
    {
     "cell_type": "code",
     "collapsed": false,
     "input": [
      "from astropy.io import fits"
     ],
     "language": "python",
     "metadata": {
      "slideshow": {
       "slide_type": "fragment"
      }
     },
     "outputs": []
    },
    {
     "cell_type": "markdown",
     "metadata": {
      "slideshow": {
       "slide_type": "fragment"
      }
     },
     "source": [
      "<li> Tools for reading in ascii tables including CDS, IPAC, HTML, Latex, Sextractor"
     ]
    },
    {
     "cell_type": "code",
     "collapsed": false,
     "input": [
      "from astropy.io import ascii\n",
      "table = ascii.read(\"ftp://cdsarc.u-strasbg.fr/pub/cats/VII/253/snrs.dat\", \n",
      "                   readme=\"ftp://cdsarc.u-strasbg.fr/pub/cats/VII/253/ReadMe\")"
     ],
     "language": "python",
     "metadata": {
      "slideshow": {
       "slide_type": "fragment"
      }
     },
     "outputs": []
    },
    {
     "cell_type": "code",
     "collapsed": false,
     "input": [
      "print table"
     ],
     "language": "python",
     "metadata": {
      "slideshow": {
       "slide_type": "fragment"
      }
     },
     "outputs": []
    },
    {
     "cell_type": "markdown",
     "metadata": {
      "slideshow": {
       "slide_type": "subslide"
      }
     },
     "source": [
      "<center><H2> Cosmology in Astropy </H2></center>"
     ]
    },
    {
     "cell_type": "code",
     "collapsed": false,
     "input": [
      "from astropy.cosmology import WMAP9 as cosmo\n",
      "cosmo.H(0)"
     ],
     "language": "python",
     "metadata": {
      "slideshow": {
       "slide_type": "fragment"
      }
     },
     "outputs": []
    },
    {
     "cell_type": "code",
     "collapsed": false,
     "input": [
      "cosmo"
     ],
     "language": "python",
     "metadata": {
      "slideshow": {
       "slide_type": "fragment"
      }
     },
     "outputs": []
    },
    {
     "cell_type": "markdown",
     "metadata": {
      "slideshow": {
       "slide_type": "fragment"
      }
     },
     "source": [
      "A number of cosmological models are already available and the user can define their own cosmological models including dark energy and neutrino properties"
     ]
    },
    {
     "cell_type": "code",
     "collapsed": false,
     "input": [
      "from astropy.cosmology import WMAP7 \n",
      "from astropy.cosmology import WMAP9 as cosmo\n",
      "from astropy.cosmology import Planck13 \n",
      "\n",
      "z = np.linspace(0,10,200)\n",
      "\n",
      "plt.figure(figsize=(8,5))\n",
      "plt.plot(z, WMAP7.luminosity_distance(z)-cosmo.luminosity_distance(z), 'b-', label='WMAP7')\n",
      "plt.plot(z, cosmo.luminosity_distance(z)-cosmo.luminosity_distance(z), '-', color='black', label='WMAP9')\n",
      "plt.plot(z, Planck13.luminosity_distance(z)-cosmo.luminosity_distance(z), 'g-', label='Planck13')\n",
      "plt.xlabel('z')\n",
      "plt.ylabel('$\\Delta D_L [%s]$' % cosmo.luminosity_distance(0).unit)\n",
      "plt.legend(loc=2)\n",
      "plt.show()\n"
     ],
     "language": "python",
     "metadata": {
      "slideshow": {
       "slide_type": "subslide"
      }
     },
     "outputs": []
    },
    {
     "cell_type": "markdown",
     "metadata": {
      "slideshow": {
       "slide_type": "subslide"
      }
     },
     "source": [
      "<center><H2> Useful statistics for Astronomy </H2></center>"
     ]
    },
    {
     "cell_type": "code",
     "collapsed": false,
     "input": [
      "from astropy import stats\n",
      "for x in stats.funcs.__all__: print x"
     ],
     "language": "python",
     "metadata": {
      "slideshow": {
       "slide_type": "fragment"
      }
     },
     "outputs": []
    },
    {
     "cell_type": "markdown",
     "metadata": {
      "slideshow": {
       "slide_type": "slide"
      }
     },
     "source": [
      "<center><H1> Astropy Framework </H1> </center>"
     ]
    },
    {
     "cell_type": "markdown",
     "metadata": {
      "slideshow": {
       "slide_type": "subslide"
      }
     },
     "source": [
      "Development of testing, documentation, and installation infrastructre to make it easier to build and deploy your own code"
     ]
    },
    {
     "cell_type": "markdown",
     "metadata": {
      "slideshow": {
       "slide_type": "subslide"
      }
     },
     "source": [
      "<H2> Package Template </H2>\n",
      "<img src='astropy_template.png'>"
     ]
    },
    {
     "cell_type": "markdown",
     "metadata": {
      "slideshow": {
       "slide_type": "subslide"
      }
     },
     "source": [
      "\n",
      "<img src='astropy_docs.png'>"
     ]
    },
    {
     "cell_type": "markdown",
     "metadata": {
      "slideshow": {
       "slide_type": "slide"
      }
     },
     "source": [
      "<center><H1> Astropy Affiliated Packages </H1> \n",
      "</center>\n"
     ]
    },
    {
     "cell_type": "markdown",
     "metadata": {
      "slideshow": {
       "slide_type": "subslide"
      }
     },
     "source": [
      "<center><H2>Astropy Affiliated Packages</H2></center>\n",
      "<ul>\n",
      "<li> <a href='http://aplpy.github.io'> APLpy </a>\n",
      "<li> <a href='http://astroml.github.com/'> astroML </a>\n",
      "<li> <a href='http://packages.python.org/Astropysics/'> astropysics </a>\t\n",
      "<li> <a href='https://github.com/astropy/astroquery'> astroquery </a>\n",
      "<li> <a href='https://github.com/astropy/ccdproc'> ccdproc </a>\t\n",
      "<li> <a href='https://github.com/gammapy/gammapy'> gammapy </a>\t\n",
      "<li> <a href='http://ejeschke.github.com/ginga'> ginga </a>\n",
      "<li> <a href='http://www.astropy.org/montage-wrapper/'> montage-wrapper </a>\t\n",
      "<li> <a href='https://github.com/astropy/photutils'> photutils </a>\t\n",
      "<li> <a href='https://github.com/weaverba137/pydl'> pydl </a>\t\n",
      "<li> <a href='https://github.com/pyvirtobs/pyvo'> pyvo </a>\t\n",
      "<li> <a href='https://sncosmo.github.io'> sncosmo </a>\t\n",
      "<li> <a href='https://github.com/astropy/specutils'> specutils </a>\n",
      "</ul>\n",
      "These packages are at different stages of development and there are a number of other packages in early development which are not mentioned here.  Some of the packages will be integrated into the core astropy package. "
     ]
    },
    {
     "cell_type": "markdown",
     "metadata": {
      "slideshow": {
       "slide_type": "subslide"
      }
     },
     "source": [
      "<center><H3>APLPY</H3></center>"
     ]
    },
    {
     "cell_type": "code",
     "collapsed": false,
     "input": [
      "import aplpy\n",
      "gc = aplpy.FITSFigure('2MASS_k.fits')\n",
      "gc.show_rgb('2MASS_arcsinh_color.png')"
     ],
     "language": "python",
     "metadata": {
      "slideshow": {
       "slide_type": "fragment"
      }
     },
     "outputs": []
    },
    {
     "cell_type": "markdown",
     "metadata": {
      "slideshow": {
       "slide_type": "subslide"
      }
     },
     "source": [
      "<center><H3>astroquery</H3></center>"
     ]
    },
    {
     "cell_type": "code",
     "collapsed": false,
     "input": [
      "from astroquery.simbad import Simbad\n",
      "result_table = Simbad.query_object(\"m1\")\n",
      "result_table.pprint(show_unit=True)"
     ],
     "language": "python",
     "metadata": {
      "slideshow": {
       "slide_type": "fragment"
      }
     },
     "outputs": []
    },
    {
     "cell_type": "markdown",
     "metadata": {
      "slideshow": {
       "slide_type": "fragment"
      }
     },
     "source": [
      "Services available to query include Vizier, Simbad, NED, SDSS, GAMA, archives, catalogs, and many more online resources"
     ]
    },
    {
     "cell_type": "markdown",
     "metadata": {
      "slideshow": {
       "slide_type": "subslide"
      }
     },
     "source": [
      "<center><H3>ccdproc</H3></center>"
     ]
    },
    {
     "cell_type": "code",
     "collapsed": false,
     "input": [
      "import ccdproc\n",
      "ccd = ccdproc.CCDData.read('a8280418.fits', unit=u.adu)\n",
      "ccd.header"
     ],
     "language": "python",
     "metadata": {
      "slideshow": {
       "slide_type": "fragment"
      }
     },
     "outputs": []
    },
    {
     "cell_type": "code",
     "collapsed": false,
     "input": [
      "ccd = ccdproc.subtract_overscan(ccd, fits_section=ccd.header['biassec'], \n",
      "                                median=True, model=models.Polynomial1D(5))\n",
      "ccd = ccdproc.trim_image(ccd, fits_section=ccd.header['trimsec'])\n",
      "ccd = ccdproc.create_deviation(ccd, readnoise=ccd.header['rdnoise']*u.electron, \n",
      "                              gain=ccd.header['gain']*u.electron/u.adu)\n",
      "ccd.write('out.fits', clobber=True)\n",
      "\n"
     ],
     "language": "python",
     "metadata": {
      "slideshow": {
       "slide_type": "subslide"
      }
     },
     "outputs": []
    },
    {
     "cell_type": "code",
     "collapsed": false,
     "input": [
      "from astropy import log\n",
      "log.setLevel('ERROR')\n"
     ],
     "language": "python",
     "metadata": {
      "slideshow": {
       "slide_type": "skip"
      }
     },
     "outputs": []
    },
    {
     "cell_type": "code",
     "collapsed": false,
     "input": [
      "fc = aplpy.FITSFigure(ccd.data)\n",
      "fc.show_grayscale()"
     ],
     "language": "python",
     "metadata": {
      "slideshow": {
       "slide_type": "fragment"
      }
     },
     "outputs": []
    },
    {
     "cell_type": "markdown",
     "metadata": {
      "slideshow": {
       "slide_type": "slide"
      }
     },
     "source": [
      "<center><H1> How to get involved </H1> </center>"
     ]
    },
    {
     "cell_type": "markdown",
     "metadata": {
      "slideshow": {
       "slide_type": "subslide"
      }
     },
     "source": [
      "Download and install astropy"
     ]
    },
    {
     "cell_type": "markdown",
     "metadata": {
      "slideshow": {
       "slide_type": "fragment"
      }
     },
     "source": [
      "Join astropy@scipy.org"
     ]
    },
    {
     "cell_type": "markdown",
     "metadata": {
      "slideshow": {
       "slide_type": "fragment"
      }
     },
     "source": [
      "Provide feedback (submit issues, ask questions)"
     ]
    },
    {
     "cell_type": "markdown",
     "metadata": {
      "slideshow": {
       "slide_type": "fragment"
      }
     },
     "source": [
      "Use the astropy template and astropy classes for your packages"
     ]
    },
    {
     "cell_type": "markdown",
     "metadata": {
      "slideshow": {
       "slide_type": "fragment"
      }
     },
     "source": [
      "Look for 'easy' issues and submit a pull request"
     ]
    },
    {
     "cell_type": "markdown",
     "metadata": {
      "slideshow": {
       "slide_type": "fragment"
      }
     },
     "source": [
      "Contribute code either to astropy or an affiliated package"
     ]
    },
    {
     "cell_type": "markdown",
     "metadata": {
      "slideshow": {
       "slide_type": "slide"
      }
     },
     "source": [
      "<center><H1> Astropy Resources </H1> </center>"
     ]
    },
    {
     "cell_type": "markdown",
     "metadata": {
      "slideshow": {
       "slide_type": "fragment"
      }
     },
     "source": [
      "Websites <br>\n",
      "Homepage: <a href='http://www.astropy.org/'> http://www.astropy.org/ </a><br>\n",
      "Documentation: <a href='http://docs.astropy.org/'> http://docs.astropy.org/ </a><br>\n",
      "Tutorials: <a href='http://www.astropy.org/astropy-tutorials/'>http://www.astropy.org/astropy-tutorials/</a>"
     ]
    },
    {
     "cell_type": "markdown",
     "metadata": {
      "slideshow": {
       "slide_type": "fragment"
      }
     },
     "source": [
      "Github<br>\n",
      "<a href='https://github.com/astropy'> https://github.com/astropy </a>"
     ]
    },
    {
     "cell_type": "markdown",
     "metadata": {
      "slideshow": {
       "slide_type": "fragment"
      }
     },
     "source": [
      "Contacts <br>\n",
      "Twitter:  <a href='https://twitter.com/astropy'>@astropy</a><br>\n",
      "General Mailing List:  <a href='http://mail.scipy.org/mailman/listinfo/astropy'>astropy@scipy.org</a><br>\n",
      "Mailing list for developers: <a href='https://groups.google.com/d/forum/astropy-dev'>astropy-dev@googlegroups.com</a>"
     ]
    },
    {
     "cell_type": "markdown",
     "metadata": {
      "slideshow": {
       "slide_type": "fragment"
      }
     },
     "source": [
      "Reference<br>\n",
      "<a href='http://adsabs.harvard.edu/abs/2013A%26A...558A..33A'> 'Astropy: A community Python package for astronomy', Astropy Collaboration et al. 2013, Astronomy and Astrophysics, 558, AA33 </a>"
     ]
    },
    {
     "cell_type": "markdown",
     "metadata": {
      "slideshow": {
       "slide_type": "fragment"
      }
     },
     "source": [
      "Acknowledgement<br>\n",
      "This talk made use of Astropy, a community-developed core Python package for Astronomy (Astropy Collaboration, 2013).  \n",
      "\n",
      "Special thank you to Thomas Robitaille, Adrian Price-Whelan, Mathew Craig, and the Astropy Community for material for this talk. "
     ]
    }
   ],
   "metadata": {}
  }
 ]
}